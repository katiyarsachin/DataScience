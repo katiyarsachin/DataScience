{
 "cells": [
  {
   "cell_type": "code",
   "execution_count": 1,
   "metadata": {},
   "outputs": [],
   "source": [
    "#Importing all the required libraries\n",
    "import numpy as np\n",
    "import pandas as pd\n",
    "import os\n",
    "import datetime\n",
    "import glob\n",
    "import warnings\n",
    "import cv2\n",
    "import shutil\n",
    "warnings.filterwarnings(\"ignore\")"
   ]
  },
  {
   "cell_type": "code",
   "execution_count": 2,
   "metadata": {},
   "outputs": [
    {
     "data": {
      "text/plain": [
       "(22424, 3)"
      ]
     },
     "execution_count": 2,
     "metadata": {},
     "output_type": "execute_result"
    }
   ],
   "source": [
    "#Importing the info related to the images\n",
    "driver_details=pd.read_csv(r\"Filtered_Dataset/driver_imgs_list.csv\")\n",
    "driver_details.shape"
   ]
  },
  {
   "cell_type": "code",
   "execution_count": 3,
   "metadata": {},
   "outputs": [],
   "source": [
    "#Finding the wrong images in the dataset that are present inside the specific class folders irrespective of their representative\n",
    "#behaviours\n",
    "rm=[0,1,5,7,8,9]\n",
    "rm_img=[]\n",
    "for i in rm:\n",
    "    for j in glob.glob(\"Filtered_Dataset/c\"+str(i)+\"_wrong/*.jpg\"):\n",
    "        rm_img.append(j.split(\"/\")[2])"
   ]
  },
  {
   "cell_type": "code",
   "execution_count": 4,
   "metadata": {},
   "outputs": [
    {
     "data": {
      "text/plain": [
       "(22234, 3)"
      ]
     },
     "execution_count": 4,
     "metadata": {},
     "output_type": "execute_result"
    }
   ],
   "source": [
    "#Removing the images that are present in the folders irrespective of their representative behaviours\n",
    "driver_details=driver_details[~driver_details[\"img\"].isin(rm_img)]\n",
    "driver_details.shape"
   ]
  },
  {
   "cell_type": "code",
   "execution_count": 5,
   "metadata": {},
   "outputs": [
    {
     "data": {
      "text/html": [
       "<div>\n",
       "<style scoped>\n",
       "    .dataframe tbody tr th:only-of-type {\n",
       "        vertical-align: middle;\n",
       "    }\n",
       "\n",
       "    .dataframe tbody tr th {\n",
       "        vertical-align: top;\n",
       "    }\n",
       "\n",
       "    .dataframe thead th {\n",
       "        text-align: right;\n",
       "    }\n",
       "</style>\n",
       "<table border=\"1\" class=\"dataframe\">\n",
       "  <thead>\n",
       "    <tr style=\"text-align: right;\">\n",
       "      <th></th>\n",
       "      <th>subject</th>\n",
       "      <th>classname</th>\n",
       "      <th>img</th>\n",
       "    </tr>\n",
       "  </thead>\n",
       "  <tbody>\n",
       "    <tr>\n",
       "      <th>0</th>\n",
       "      <td>p002</td>\n",
       "      <td>c0</td>\n",
       "      <td>img_44733.jpg</td>\n",
       "    </tr>\n",
       "    <tr>\n",
       "      <th>1</th>\n",
       "      <td>p002</td>\n",
       "      <td>c0</td>\n",
       "      <td>img_72999.jpg</td>\n",
       "    </tr>\n",
       "    <tr>\n",
       "      <th>2</th>\n",
       "      <td>p002</td>\n",
       "      <td>c0</td>\n",
       "      <td>img_25094.jpg</td>\n",
       "    </tr>\n",
       "    <tr>\n",
       "      <th>3</th>\n",
       "      <td>p002</td>\n",
       "      <td>c0</td>\n",
       "      <td>img_69092.jpg</td>\n",
       "    </tr>\n",
       "    <tr>\n",
       "      <th>4</th>\n",
       "      <td>p002</td>\n",
       "      <td>c0</td>\n",
       "      <td>img_92629.jpg</td>\n",
       "    </tr>\n",
       "  </tbody>\n",
       "</table>\n",
       "</div>"
      ],
      "text/plain": [
       "  subject classname            img\n",
       "0    p002        c0  img_44733.jpg\n",
       "1    p002        c0  img_72999.jpg\n",
       "2    p002        c0  img_25094.jpg\n",
       "3    p002        c0  img_69092.jpg\n",
       "4    p002        c0  img_92629.jpg"
      ]
     },
     "execution_count": 5,
     "metadata": {},
     "output_type": "execute_result"
    }
   ],
   "source": [
    "#Printing a snippet of the driver_details remained after the removal of wrong images\n",
    "driver_details.head()"
   ]
  },
  {
   "cell_type": "code",
   "execution_count": 6,
   "metadata": {},
   "outputs": [
    {
     "data": {
      "text/plain": [
       "(22234, 3)"
      ]
     },
     "execution_count": 6,
     "metadata": {},
     "output_type": "execute_result"
    }
   ],
   "source": [
    "#Shape of driver_details dataframe representing the no of images to be dealt further\n",
    "driver_details.shape"
   ]
  },
  {
   "cell_type": "code",
   "execution_count": 7,
   "metadata": {},
   "outputs": [],
   "source": [
    "#Loading images seperately on Train, Val and Test dataframe based on the different ethnic groups\n",
    "train_df = pd.DataFrame()\n",
    "val_df = pd.DataFrame()\n",
    "test_df = pd.DataFrame()\n",
    "\n",
    "train_df = driver_details.loc[~driver_details['subject'].isin(['p022','p072','p014','p050'])]\n",
    "val_df =  driver_details.loc[driver_details['subject'].isin(['p014','p050'])]\n",
    "test_df  = driver_details.loc[driver_details['subject'].isin(['p022','p072'])]"
   ]
  },
  {
   "cell_type": "code",
   "execution_count": 8,
   "metadata": {},
   "outputs": [],
   "source": [
    "#Converting dataframe into list\n",
    "train_list=train_df.values.tolist()\n",
    "val_list=val_df.values.tolist()\n",
    "test_list=test_df.values.tolist()"
   ]
  },
  {
   "cell_type": "code",
   "execution_count": 9,
   "metadata": {},
   "outputs": [
    {
     "data": {
      "text/plain": [
       "3223"
      ]
     },
     "execution_count": 9,
     "metadata": {},
     "output_type": "execute_result"
    }
   ],
   "source": [
    "#Merging validation and test list and saving the same into temp list and printing the length of the same\n",
    "temp = val_list+test_list\n",
    "import random\n",
    "random.seed(42)\n",
    "random.shuffle(temp)\n",
    "len(temp)"
   ]
  },
  {
   "cell_type": "code",
   "execution_count": 10,
   "metadata": {},
   "outputs": [],
   "source": [
    "#Dividing the temp list by half and appending the last half to the train list while storing the first half into the test list\n",
    "#This has been done to make model aware of all types of ethic groups on which it is really going to test\n",
    "random.shuffle(train_list)\n",
    "train_list.extend(temp[:len(temp)//2])\n",
    "test_list = temp[len(temp)//2:]"
   ]
  },
  {
   "cell_type": "code",
   "execution_count": 11,
   "metadata": {},
   "outputs": [],
   "source": [
    "#Making 10 different class folders before splitting the test and train dataset\n",
    "base_dir = 'Dataset/'\n",
    "os.makedirs(base_dir, exist_ok=True)\n",
    "\n",
    "base_dir1 = 'Dataset1/'\n",
    "os.makedirs(base_dir1, exist_ok=True)\n",
    "\n",
    "train_dir = os.path.join(base_dir1, 'train2')\n",
    "os.makedirs(train_dir, exist_ok=True)\n",
    "\n",
    "test_dir = os.path.join(base_dir1, 'test2')\n",
    "os.makedirs(test_dir, exist_ok=True)\n",
    "\n",
    "for i in range(10):\n",
    "    train_dir_all_class = os.path.join(train_dir, 'c'+str(i))\n",
    "    os.makedirs(train_dir_all_class, exist_ok=True)\n",
    "    \n",
    "for i in range(10):\n",
    "    test_dir_all_class = os.path.join(test_dir, 'c'+str(i))\n",
    "    os.makedirs(test_dir_all_class, exist_ok=True)"
   ]
  },
  {
   "cell_type": "code",
   "execution_count": 12,
   "metadata": {},
   "outputs": [],
   "source": [
    "#Copying the images to the train dataset\n",
    "for image in train_list:\n",
    "    shutil.copyfile(base_dir+image[1]+'/'+image[2], train_dir+'/'+image[1]+'/'+image[2])"
   ]
  },
  {
   "cell_type": "code",
   "execution_count": 15,
   "metadata": {},
   "outputs": [],
   "source": [
    "#Copying the images to the test dataset\n",
    "for image in test_list:\n",
    "    shutil.copyfile(base_dir+image[1]+'/'+image[2], test_dir+'/'+image[1]+'/'+image[2])"
   ]
  },
  {
   "cell_type": "code",
   "execution_count": 16,
   "metadata": {},
   "outputs": [],
   "source": [
    "#Importing ImageDataGenerator and preprocess_input for image augumentation purpose and creating a train data generator\n",
    "from tensorflow.keras.preprocessing.image import ImageDataGenerator\n",
    "from tensorflow.keras.applications.efficientnet import preprocess_input\n",
    "train_data_generator = ImageDataGenerator(\n",
    "      rescale=1./255,\n",
    "      rotation_range=30,\n",
    "      width_shift_range=0.1,\n",
    "      height_shift_range=0.1,\n",
    "      zoom_range=0.1,\n",
    "      preprocessing_function=preprocess_input,\n",
    "      validation_split=0.1)"
   ]
  },
  {
   "cell_type": "code",
   "execution_count": 17,
   "metadata": {},
   "outputs": [
    {
     "name": "stdout",
     "output_type": "stream",
     "text": [
      "Found 18565 images belonging to 10 classes.\n",
      "Found 2057 images belonging to 10 classes.\n"
     ]
    }
   ],
   "source": [
    "#Creating the train and val generator object\n",
    "train_gen = train_data_generator.flow_from_directory(\n",
    "        train_dir,\n",
    "        target_size=(128,128),\n",
    "        batch_size=64,\n",
    "        class_mode='categorical',\n",
    "        subset='training')\n",
    "\n",
    "val_gen = train_data_generator.flow_from_directory(\n",
    "        train_dir,\n",
    "        target_size=(128,128),\n",
    "        batch_size=64,\n",
    "        class_mode='categorical',\n",
    "        subset='validation')"
   ]
  },
  {
   "cell_type": "code",
   "execution_count": 18,
   "metadata": {},
   "outputs": [
    {
     "name": "stdout",
     "output_type": "stream",
     "text": [
      "# training sequences = 18565\n",
      "# val sequences = 2057\n",
      "# epochs = 15\n"
     ]
    }
   ],
   "source": [
    "#Setting batch size, epochs, number of training and validation sequences \n",
    "batch_size=64\n",
    "num_train_sequences = train_gen.samples\n",
    "print('# training sequences =', num_train_sequences)\n",
    "num_val_sequences = val_gen.samples\n",
    "print('# val sequences =', num_val_sequences)\n",
    "num_epochs = 15\n",
    "print ('# epochs =', num_epochs)"
   ]
  },
  {
   "cell_type": "code",
   "execution_count": 19,
   "metadata": {},
   "outputs": [],
   "source": [
    "#Importing tensorflow and keras libraries required for model building and training purpose\n",
    "from tensorflow.keras.models import Sequential\n",
    "from tensorflow.keras.layers import Dropout, Flatten, Dense,GlobalAveragePooling2D,GlobalMaxPooling2D\n",
    "from tensorflow.keras.layers import Flatten,Dropout,Activation\n",
    "from tensorflow.keras.layers import Conv2D, MaxPooling2D\n",
    "from tensorflow.keras.utils import to_categorical\n",
    "from tensorflow.keras.preprocessing import image \n",
    "from tensorflow.keras import optimizers\n",
    "from tensorflow.keras.layers import concatenate, add, Input, BatchNormalization\n",
    "from tensorflow.keras.models import Model"
   ]
  },
  {
   "cell_type": "code",
   "execution_count": 20,
   "metadata": {},
   "outputs": [],
   "source": [
    "# Residual block implementation\n",
    "def skip_block(layer_in, n_filters, n_conv):\n",
    "    merge_input = layer_in\n",
    "    # check if the number of filters needs to be increase in layer_in based in n_filters\n",
    "    if layer_in.shape[-1] != n_filters:\n",
    "        merge_input = Conv2D(n_filters, (1,1), padding='same', activation='relu', kernel_initializer='he_normal')(layer_in)\n",
    "    # adding convolutional layers to the model\n",
    "    for _ in range(n_conv):\n",
    "        layer_in = Conv2D(n_filters, (3,3), padding='same', activation='relu')(layer_in)\n",
    "    # adding batch normalization layer to the model\n",
    "    layer_in = BatchNormalization()(layer_in)\n",
    "    # adding ouputs saved in layer_in and merge_input, this will act as skip connection in skip_block module\n",
    "    layer_in = add([layer_in, merge_input])\n",
    "    # adding max pooling layer to the model\n",
    "    layer_out = MaxPooling2D((2,2), strides=(2,2))(layer_in)\n",
    "    return layer_out"
   ]
  },
  {
   "cell_type": "code",
   "execution_count": 21,
   "metadata": {},
   "outputs": [
    {
     "name": "stdout",
     "output_type": "stream",
     "text": [
      "Model: \"functional_1\"\n",
      "__________________________________________________________________________________________________\n",
      "Layer (type)                    Output Shape         Param #     Connected to                     \n",
      "==================================================================================================\n",
      "input_1 (InputLayer)            [(None, 128, 128, 3) 0                                            \n",
      "__________________________________________________________________________________________________\n",
      "conv2d_1 (Conv2D)               (None, 128, 128, 16) 448         input_1[0][0]                    \n",
      "__________________________________________________________________________________________________\n",
      "conv2d_2 (Conv2D)               (None, 128, 128, 16) 2320        conv2d_1[0][0]                   \n",
      "__________________________________________________________________________________________________\n",
      "conv2d_3 (Conv2D)               (None, 128, 128, 16) 2320        conv2d_2[0][0]                   \n",
      "__________________________________________________________________________________________________\n",
      "batch_normalization (BatchNorma (None, 128, 128, 16) 64          conv2d_3[0][0]                   \n",
      "__________________________________________________________________________________________________\n",
      "conv2d (Conv2D)                 (None, 128, 128, 16) 64          input_1[0][0]                    \n",
      "__________________________________________________________________________________________________\n",
      "add (Add)                       (None, 128, 128, 16) 0           batch_normalization[0][0]        \n",
      "                                                                 conv2d[0][0]                     \n",
      "__________________________________________________________________________________________________\n",
      "max_pooling2d (MaxPooling2D)    (None, 64, 64, 16)   0           add[0][0]                        \n",
      "__________________________________________________________________________________________________\n",
      "conv2d_5 (Conv2D)               (None, 64, 64, 32)   4640        max_pooling2d[0][0]              \n",
      "__________________________________________________________________________________________________\n",
      "conv2d_6 (Conv2D)               (None, 64, 64, 32)   9248        conv2d_5[0][0]                   \n",
      "__________________________________________________________________________________________________\n",
      "conv2d_7 (Conv2D)               (None, 64, 64, 32)   9248        conv2d_6[0][0]                   \n",
      "__________________________________________________________________________________________________\n",
      "batch_normalization_1 (BatchNor (None, 64, 64, 32)   128         conv2d_7[0][0]                   \n",
      "__________________________________________________________________________________________________\n",
      "conv2d_4 (Conv2D)               (None, 64, 64, 32)   544         max_pooling2d[0][0]              \n",
      "__________________________________________________________________________________________________\n",
      "add_1 (Add)                     (None, 64, 64, 32)   0           batch_normalization_1[0][0]      \n",
      "                                                                 conv2d_4[0][0]                   \n",
      "__________________________________________________________________________________________________\n",
      "max_pooling2d_1 (MaxPooling2D)  (None, 32, 32, 32)   0           add_1[0][0]                      \n",
      "__________________________________________________________________________________________________\n",
      "conv2d_9 (Conv2D)               (None, 32, 32, 64)   18496       max_pooling2d_1[0][0]            \n",
      "__________________________________________________________________________________________________\n",
      "conv2d_10 (Conv2D)              (None, 32, 32, 64)   36928       conv2d_9[0][0]                   \n",
      "__________________________________________________________________________________________________\n",
      "conv2d_11 (Conv2D)              (None, 32, 32, 64)   36928       conv2d_10[0][0]                  \n",
      "__________________________________________________________________________________________________\n",
      "batch_normalization_2 (BatchNor (None, 32, 32, 64)   256         conv2d_11[0][0]                  \n",
      "__________________________________________________________________________________________________\n",
      "conv2d_8 (Conv2D)               (None, 32, 32, 64)   2112        max_pooling2d_1[0][0]            \n",
      "__________________________________________________________________________________________________\n",
      "add_2 (Add)                     (None, 32, 32, 64)   0           batch_normalization_2[0][0]      \n",
      "                                                                 conv2d_8[0][0]                   \n",
      "__________________________________________________________________________________________________\n",
      "max_pooling2d_2 (MaxPooling2D)  (None, 16, 16, 64)   0           add_2[0][0]                      \n",
      "__________________________________________________________________________________________________\n",
      "conv2d_13 (Conv2D)              (None, 16, 16, 128)  73856       max_pooling2d_2[0][0]            \n",
      "__________________________________________________________________________________________________\n",
      "conv2d_14 (Conv2D)              (None, 16, 16, 128)  147584      conv2d_13[0][0]                  \n",
      "__________________________________________________________________________________________________\n",
      "conv2d_15 (Conv2D)              (None, 16, 16, 128)  147584      conv2d_14[0][0]                  \n",
      "__________________________________________________________________________________________________\n",
      "batch_normalization_3 (BatchNor (None, 16, 16, 128)  512         conv2d_15[0][0]                  \n",
      "__________________________________________________________________________________________________\n",
      "conv2d_12 (Conv2D)              (None, 16, 16, 128)  8320        max_pooling2d_2[0][0]            \n",
      "__________________________________________________________________________________________________\n",
      "add_3 (Add)                     (None, 16, 16, 128)  0           batch_normalization_3[0][0]      \n",
      "                                                                 conv2d_12[0][0]                  \n",
      "__________________________________________________________________________________________________\n",
      "max_pooling2d_3 (MaxPooling2D)  (None, 8, 8, 128)    0           add_3[0][0]                      \n",
      "__________________________________________________________________________________________________\n",
      "conv2d_17 (Conv2D)              (None, 8, 8, 256)    295168      max_pooling2d_3[0][0]            \n",
      "__________________________________________________________________________________________________\n",
      "conv2d_18 (Conv2D)              (None, 8, 8, 256)    590080      conv2d_17[0][0]                  \n",
      "__________________________________________________________________________________________________\n",
      "conv2d_19 (Conv2D)              (None, 8, 8, 256)    590080      conv2d_18[0][0]                  \n",
      "__________________________________________________________________________________________________\n",
      "batch_normalization_4 (BatchNor (None, 8, 8, 256)    1024        conv2d_19[0][0]                  \n",
      "__________________________________________________________________________________________________\n",
      "conv2d_16 (Conv2D)              (None, 8, 8, 256)    33024       max_pooling2d_3[0][0]            \n",
      "__________________________________________________________________________________________________\n",
      "add_4 (Add)                     (None, 8, 8, 256)    0           batch_normalization_4[0][0]      \n",
      "                                                                 conv2d_16[0][0]                  \n",
      "__________________________________________________________________________________________________\n",
      "max_pooling2d_4 (MaxPooling2D)  (None, 4, 4, 256)    0           add_4[0][0]                      \n",
      "__________________________________________________________________________________________________\n",
      "global_average_pooling2d (Globa (None, 256)          0           max_pooling2d_4[0][0]            \n",
      "__________________________________________________________________________________________________\n",
      "flatten (Flatten)               (None, 256)          0           global_average_pooling2d[0][0]   \n",
      "__________________________________________________________________________________________________\n",
      "dense (Dense)                   (None, 256)          65792       flatten[0][0]                    \n",
      "__________________________________________________________________________________________________\n",
      "dropout (Dropout)               (None, 256)          0           dense[0][0]                      \n",
      "__________________________________________________________________________________________________\n",
      "dense_1 (Dense)                 (None, 256)          65792       dropout[0][0]                    \n",
      "__________________________________________________________________________________________________\n",
      "dropout_1 (Dropout)             (None, 256)          0           dense_1[0][0]                    \n",
      "__________________________________________________________________________________________________\n",
      "dense_2 (Dense)                 (None, 128)          32896       dropout_1[0][0]                  \n",
      "__________________________________________________________________________________________________\n",
      "batch_normalization_5 (BatchNor (None, 128)          512         dense_2[0][0]                    \n",
      "__________________________________________________________________________________________________\n",
      "dense_3 (Dense)                 (None, 10)           1290        batch_normalization_5[0][0]      \n",
      "==================================================================================================\n",
      "Total params: 2,177,258\n",
      "Trainable params: 2,176,010\n",
      "Non-trainable params: 1,248\n",
      "__________________________________________________________________________________________________\n"
     ]
    }
   ],
   "source": [
    "# Building the model\n",
    "input_img = Input(shape=(128,128, 3))\n",
    "\n",
    "layer = skip_block(input_img, 16, 3)\n",
    "layer = skip_block(layer, 32, 3)\n",
    "layer = skip_block(layer, 64, 3)\n",
    "layer = skip_block(layer, 128, 3)\n",
    "layer = skip_block(layer, 256, 3)\n",
    "\n",
    "layer = GlobalAveragePooling2D()(layer)\n",
    "\n",
    "layer = Flatten()(layer)\n",
    "\n",
    "layer = Dense(256, activation='relu')(layer)\n",
    "layer = Dropout(0.2)(layer)\n",
    "\n",
    "layer = Dense(256, activation='relu')(layer)\n",
    "layer = Dropout(0.2)(layer)\n",
    "\n",
    "layer = Dense(128, activation='relu')(layer)\n",
    "\n",
    "layer = BatchNormalization()(layer)\n",
    "\n",
    "output = Dense(10, activation='softmax')(layer)\n",
    "\n",
    "# summarize the model\n",
    "model = Model(input_img,output)\n",
    "\n",
    "model.summary()"
   ]
  },
  {
   "cell_type": "code",
   "execution_count": 22,
   "metadata": {},
   "outputs": [
    {
     "name": "stdout",
     "output_type": "stream",
     "text": [
      "Model: \"functional_1\"\n",
      "__________________________________________________________________________________________________\n",
      "Layer (type)                    Output Shape         Param #     Connected to                     \n",
      "==================================================================================================\n",
      "input_1 (InputLayer)            [(None, 128, 128, 3) 0                                            \n",
      "__________________________________________________________________________________________________\n",
      "conv2d_1 (Conv2D)               (None, 128, 128, 16) 448         input_1[0][0]                    \n",
      "__________________________________________________________________________________________________\n",
      "conv2d_2 (Conv2D)               (None, 128, 128, 16) 2320        conv2d_1[0][0]                   \n",
      "__________________________________________________________________________________________________\n",
      "conv2d_3 (Conv2D)               (None, 128, 128, 16) 2320        conv2d_2[0][0]                   \n",
      "__________________________________________________________________________________________________\n",
      "batch_normalization (BatchNorma (None, 128, 128, 16) 64          conv2d_3[0][0]                   \n",
      "__________________________________________________________________________________________________\n",
      "conv2d (Conv2D)                 (None, 128, 128, 16) 64          input_1[0][0]                    \n",
      "__________________________________________________________________________________________________\n",
      "add (Add)                       (None, 128, 128, 16) 0           batch_normalization[0][0]        \n",
      "                                                                 conv2d[0][0]                     \n",
      "__________________________________________________________________________________________________\n",
      "max_pooling2d (MaxPooling2D)    (None, 64, 64, 16)   0           add[0][0]                        \n",
      "__________________________________________________________________________________________________\n",
      "conv2d_5 (Conv2D)               (None, 64, 64, 32)   4640        max_pooling2d[0][0]              \n",
      "__________________________________________________________________________________________________\n",
      "conv2d_6 (Conv2D)               (None, 64, 64, 32)   9248        conv2d_5[0][0]                   \n",
      "__________________________________________________________________________________________________\n",
      "conv2d_7 (Conv2D)               (None, 64, 64, 32)   9248        conv2d_6[0][0]                   \n",
      "__________________________________________________________________________________________________\n",
      "batch_normalization_1 (BatchNor (None, 64, 64, 32)   128         conv2d_7[0][0]                   \n",
      "__________________________________________________________________________________________________\n",
      "conv2d_4 (Conv2D)               (None, 64, 64, 32)   544         max_pooling2d[0][0]              \n",
      "__________________________________________________________________________________________________\n",
      "add_1 (Add)                     (None, 64, 64, 32)   0           batch_normalization_1[0][0]      \n",
      "                                                                 conv2d_4[0][0]                   \n",
      "__________________________________________________________________________________________________\n",
      "max_pooling2d_1 (MaxPooling2D)  (None, 32, 32, 32)   0           add_1[0][0]                      \n",
      "__________________________________________________________________________________________________\n",
      "conv2d_9 (Conv2D)               (None, 32, 32, 64)   18496       max_pooling2d_1[0][0]            \n",
      "__________________________________________________________________________________________________\n",
      "conv2d_10 (Conv2D)              (None, 32, 32, 64)   36928       conv2d_9[0][0]                   \n",
      "__________________________________________________________________________________________________\n",
      "conv2d_11 (Conv2D)              (None, 32, 32, 64)   36928       conv2d_10[0][0]                  \n",
      "__________________________________________________________________________________________________\n",
      "batch_normalization_2 (BatchNor (None, 32, 32, 64)   256         conv2d_11[0][0]                  \n",
      "__________________________________________________________________________________________________\n",
      "conv2d_8 (Conv2D)               (None, 32, 32, 64)   2112        max_pooling2d_1[0][0]            \n",
      "__________________________________________________________________________________________________\n",
      "add_2 (Add)                     (None, 32, 32, 64)   0           batch_normalization_2[0][0]      \n",
      "                                                                 conv2d_8[0][0]                   \n",
      "__________________________________________________________________________________________________\n",
      "max_pooling2d_2 (MaxPooling2D)  (None, 16, 16, 64)   0           add_2[0][0]                      \n",
      "__________________________________________________________________________________________________\n",
      "conv2d_13 (Conv2D)              (None, 16, 16, 128)  73856       max_pooling2d_2[0][0]            \n",
      "__________________________________________________________________________________________________\n",
      "conv2d_14 (Conv2D)              (None, 16, 16, 128)  147584      conv2d_13[0][0]                  \n",
      "__________________________________________________________________________________________________\n",
      "conv2d_15 (Conv2D)              (None, 16, 16, 128)  147584      conv2d_14[0][0]                  \n",
      "__________________________________________________________________________________________________\n",
      "batch_normalization_3 (BatchNor (None, 16, 16, 128)  512         conv2d_15[0][0]                  \n",
      "__________________________________________________________________________________________________\n",
      "conv2d_12 (Conv2D)              (None, 16, 16, 128)  8320        max_pooling2d_2[0][0]            \n",
      "__________________________________________________________________________________________________\n",
      "add_3 (Add)                     (None, 16, 16, 128)  0           batch_normalization_3[0][0]      \n",
      "                                                                 conv2d_12[0][0]                  \n",
      "__________________________________________________________________________________________________\n",
      "max_pooling2d_3 (MaxPooling2D)  (None, 8, 8, 128)    0           add_3[0][0]                      \n",
      "__________________________________________________________________________________________________\n",
      "conv2d_17 (Conv2D)              (None, 8, 8, 256)    295168      max_pooling2d_3[0][0]            \n",
      "__________________________________________________________________________________________________\n",
      "conv2d_18 (Conv2D)              (None, 8, 8, 256)    590080      conv2d_17[0][0]                  \n",
      "__________________________________________________________________________________________________\n",
      "conv2d_19 (Conv2D)              (None, 8, 8, 256)    590080      conv2d_18[0][0]                  \n",
      "__________________________________________________________________________________________________\n",
      "batch_normalization_4 (BatchNor (None, 8, 8, 256)    1024        conv2d_19[0][0]                  \n",
      "__________________________________________________________________________________________________\n",
      "conv2d_16 (Conv2D)              (None, 8, 8, 256)    33024       max_pooling2d_3[0][0]            \n",
      "__________________________________________________________________________________________________\n",
      "add_4 (Add)                     (None, 8, 8, 256)    0           batch_normalization_4[0][0]      \n",
      "                                                                 conv2d_16[0][0]                  \n",
      "__________________________________________________________________________________________________\n",
      "max_pooling2d_4 (MaxPooling2D)  (None, 4, 4, 256)    0           add_4[0][0]                      \n",
      "__________________________________________________________________________________________________\n",
      "global_average_pooling2d (Globa (None, 256)          0           max_pooling2d_4[0][0]            \n",
      "__________________________________________________________________________________________________\n",
      "flatten (Flatten)               (None, 256)          0           global_average_pooling2d[0][0]   \n",
      "__________________________________________________________________________________________________\n",
      "dense (Dense)                   (None, 256)          65792       flatten[0][0]                    \n",
      "__________________________________________________________________________________________________\n",
      "dropout (Dropout)               (None, 256)          0           dense[0][0]                      \n",
      "__________________________________________________________________________________________________\n",
      "dense_1 (Dense)                 (None, 256)          65792       dropout[0][0]                    \n",
      "__________________________________________________________________________________________________\n",
      "dropout_1 (Dropout)             (None, 256)          0           dense_1[0][0]                    \n",
      "__________________________________________________________________________________________________\n",
      "dense_2 (Dense)                 (None, 128)          32896       dropout_1[0][0]                  \n",
      "__________________________________________________________________________________________________\n",
      "batch_normalization_5 (BatchNor (None, 128)          512         dense_2[0][0]                    \n",
      "__________________________________________________________________________________________________\n",
      "dense_3 (Dense)                 (None, 10)           1290        batch_normalization_5[0][0]      \n",
      "==================================================================================================\n",
      "Total params: 2,177,258\n",
      "Trainable params: 2,176,010\n",
      "Non-trainable params: 1,248\n",
      "__________________________________________________________________________________________________\n",
      "None\n"
     ]
    }
   ],
   "source": [
    "#setting optimizer as adam and them compiling the model\n",
    "optimiser = 'adam'\n",
    "model.compile(optimizer=optimiser, loss='categorical_crossentropy', metrics=['categorical_accuracy'])\n",
    "print (model.summary())"
   ]
  },
  {
   "cell_type": "code",
   "execution_count": 23,
   "metadata": {},
   "outputs": [],
   "source": [
    "#Setting callback list using ReduceLROnPlateau, earlystopping and checkpoint\n",
    "from tensorflow.keras.callbacks import EarlyStopping\n",
    "from tensorflow.keras.callbacks import ModelCheckpoint, ReduceLROnPlateau\n",
    "model_name = 'model_init' + '_' + str(datetime.datetime.now()).replace(' ','').replace(':','_') + '/'\n",
    "    \n",
    "if not os.path.exists(model_name):\n",
    "    os.mkdir(model_name)\n",
    "        \n",
    "filepath = model_name + 'model-{epoch:05d}-{loss:.5f}-{categorical_accuracy:.5f}-{val_loss:.5f}-{val_categorical_accuracy:.5f}.h5'\n",
    "\n",
    "checkpoint = ModelCheckpoint(filepath, monitor='val_loss', verbose=1, save_best_only=True, save_weights_only=False, mode='auto')\n",
    "\n",
    "LR = ReduceLROnPlateau(monitor='val_loss',\n",
    "                                   factor=0.002,\n",
    "                                   cooldown=0,\n",
    "                                   patience=3,\n",
    "                                   min_lr=1e-4)\n",
    "callbacks_list = [checkpoint, LR]"
   ]
  },
  {
   "cell_type": "code",
   "execution_count": 24,
   "metadata": {},
   "outputs": [],
   "source": [
    "#Setting the size for steps per epoch and also the validation steps\n",
    "if (num_train_sequences%batch_size) == 0:\n",
    "    steps_per_epoch = int(num_train_sequences/batch_size)\n",
    "else:\n",
    "    steps_per_epoch = (num_train_sequences//batch_size) + 1\n",
    "\n",
    "if (num_val_sequences%batch_size) == 0:\n",
    "    validation_steps = int(num_val_sequences/batch_size)\n",
    "else:\n",
    "    validation_steps = (num_val_sequences//batch_size) + 1"
   ]
  },
  {
   "cell_type": "code",
   "execution_count": 25,
   "metadata": {},
   "outputs": [
    {
     "name": "stdout",
     "output_type": "stream",
     "text": [
      "Epoch 1/15\n",
      "  2/291 [..............................] - ETA: 25s - loss: 3.0286 - categorical_accuracy: 0.0938"
     ]
    },
    {
     "name": "stderr",
     "output_type": "stream",
     "text": [
      "WARNING: Logging before flag parsing goes to stderr.\n",
      "W1024 13:10:45.704719 139785193903936 callbacks.py:328] Callbacks method `on_train_batch_end` is slow compared to the batch time (batch time: 0.0676s vs `on_train_batch_end` time: 0.1080s). Check your callbacks.\n"
     ]
    },
    {
     "name": "stdout",
     "output_type": "stream",
     "text": [
      "291/291 [==============================] - ETA: 0s - loss: 2.0455 - categorical_accuracy: 0.2360\n",
      "Epoch 00001: val_loss improved from inf to 3.03752, saving model to model_init_2020-10-2413_10_39.899492/model-00001-2.04551-0.23598-3.03752-0.11133.h5\n",
      "291/291 [==============================] - 174s 597ms/step - loss: 2.0455 - categorical_accuracy: 0.2360 - val_loss: 3.0375 - val_categorical_accuracy: 0.1113\n",
      "Epoch 2/15\n",
      "291/291 [==============================] - ETA: 0s - loss: 1.2464 - categorical_accuracy: 0.5090\n",
      "Epoch 00002: val_loss improved from 3.03752 to 1.38214, saving model to model_init_2020-10-2413_10_39.899492/model-00002-1.24644-0.50902-1.38214-0.47982.h5\n",
      "291/291 [==============================] - 173s 596ms/step - loss: 1.2464 - categorical_accuracy: 0.5090 - val_loss: 1.3821 - val_categorical_accuracy: 0.4798\n",
      "Epoch 3/15\n",
      "291/291 [==============================] - ETA: 0s - loss: 0.6889 - categorical_accuracy: 0.7599\n",
      "Epoch 00003: val_loss improved from 1.38214 to 1.08386, saving model to model_init_2020-10-2413_10_39.899492/model-00003-0.68892-0.75987-1.08386-0.64268.h5\n",
      "291/291 [==============================] - 174s 597ms/step - loss: 0.6889 - categorical_accuracy: 0.7599 - val_loss: 1.0839 - val_categorical_accuracy: 0.6427\n",
      "Epoch 4/15\n",
      "291/291 [==============================] - ETA: 0s - loss: 0.3830 - categorical_accuracy: 0.8769\n",
      "Epoch 00004: val_loss improved from 1.08386 to 0.56995, saving model to model_init_2020-10-2413_10_39.899492/model-00004-0.38304-0.87692-0.56995-0.81283.h5\n",
      "291/291 [==============================] - 174s 599ms/step - loss: 0.3830 - categorical_accuracy: 0.8769 - val_loss: 0.5699 - val_categorical_accuracy: 0.8128\n",
      "Epoch 5/15\n",
      "291/291 [==============================] - ETA: 0s - loss: 0.3016 - categorical_accuracy: 0.9059\n",
      "Epoch 00005: val_loss did not improve from 0.56995\n",
      "291/291 [==============================] - 174s 598ms/step - loss: 0.3016 - categorical_accuracy: 0.9059 - val_loss: 1.1015 - val_categorical_accuracy: 0.6830\n",
      "Epoch 6/15\n",
      "291/291 [==============================] - ETA: 0s - loss: 0.2418 - categorical_accuracy: 0.9256\n",
      "Epoch 00006: val_loss did not improve from 0.56995\n",
      "291/291 [==============================] - 175s 601ms/step - loss: 0.2418 - categorical_accuracy: 0.9256 - val_loss: 0.6902 - val_categorical_accuracy: 0.7934\n",
      "Epoch 7/15\n",
      "291/291 [==============================] - ETA: 0s - loss: 0.1740 - categorical_accuracy: 0.9479\n",
      "Epoch 00007: val_loss improved from 0.56995 to 0.31466, saving model to model_init_2020-10-2413_10_39.899492/model-00007-0.17397-0.94791-0.31466-0.90374.h5\n",
      "291/291 [==============================] - 175s 603ms/step - loss: 0.1740 - categorical_accuracy: 0.9479 - val_loss: 0.3147 - val_categorical_accuracy: 0.9037\n",
      "Epoch 8/15\n",
      "291/291 [==============================] - ETA: 0s - loss: 0.1593 - categorical_accuracy: 0.9527\n",
      "Epoch 00008: val_loss did not improve from 0.31466\n",
      "291/291 [==============================] - 175s 601ms/step - loss: 0.1593 - categorical_accuracy: 0.9527 - val_loss: 0.7732 - val_categorical_accuracy: 0.8060\n",
      "Epoch 9/15\n",
      "291/291 [==============================] - ETA: 0s - loss: 0.1167 - categorical_accuracy: 0.9639\n",
      "Epoch 00009: val_loss did not improve from 0.31466\n",
      "291/291 [==============================] - 175s 600ms/step - loss: 0.1167 - categorical_accuracy: 0.9639 - val_loss: 1.1841 - val_categorical_accuracy: 0.7039\n",
      "Epoch 10/15\n",
      "291/291 [==============================] - ETA: 0s - loss: 0.1165 - categorical_accuracy: 0.9656\n",
      "Epoch 00010: val_loss improved from 0.31466 to 0.20470, saving model to model_init_2020-10-2413_10_39.899492/model-00010-0.11649-0.96558-0.20470-0.93777.h5\n",
      "291/291 [==============================] - 175s 601ms/step - loss: 0.1165 - categorical_accuracy: 0.9656 - val_loss: 0.2047 - val_categorical_accuracy: 0.9378\n",
      "Epoch 11/15\n",
      "291/291 [==============================] - ETA: 0s - loss: 0.0991 - categorical_accuracy: 0.9718\n",
      "Epoch 00011: val_loss did not improve from 0.20470\n",
      "291/291 [==============================] - 174s 599ms/step - loss: 0.0991 - categorical_accuracy: 0.9718 - val_loss: 0.3255 - val_categorical_accuracy: 0.8999\n",
      "Epoch 12/15\n",
      "291/291 [==============================] - ETA: 0s - loss: 0.0930 - categorical_accuracy: 0.9719\n",
      "Epoch 00012: val_loss did not improve from 0.20470\n",
      "291/291 [==============================] - 174s 597ms/step - loss: 0.0930 - categorical_accuracy: 0.9719 - val_loss: 0.3826 - val_categorical_accuracy: 0.8999\n",
      "Epoch 13/15\n",
      "291/291 [==============================] - ETA: 0s - loss: 0.0838 - categorical_accuracy: 0.9753\n",
      "Epoch 00013: val_loss did not improve from 0.20470\n",
      "291/291 [==============================] - 174s 599ms/step - loss: 0.0838 - categorical_accuracy: 0.9753 - val_loss: 0.5392 - val_categorical_accuracy: 0.8571\n",
      "Epoch 14/15\n",
      "291/291 [==============================] - ETA: 0s - loss: 0.0488 - categorical_accuracy: 0.9866\n",
      "Epoch 00014: val_loss improved from 0.20470 to 0.04221, saving model to model_init_2020-10-2413_10_39.899492/model-00014-0.04882-0.98659-0.04221-0.98542.h5\n",
      "291/291 [==============================] - 175s 601ms/step - loss: 0.0488 - categorical_accuracy: 0.9866 - val_loss: 0.0422 - val_categorical_accuracy: 0.9854\n",
      "Epoch 15/15\n",
      "291/291 [==============================] - ETA: 0s - loss: 0.0385 - categorical_accuracy: 0.9888\n",
      "Epoch 00015: val_loss improved from 0.04221 to 0.03129, saving model to model_init_2020-10-2413_10_39.899492/model-00015-0.03845-0.98880-0.03129-0.98979.h5\n",
      "291/291 [==============================] - 176s 603ms/step - loss: 0.0385 - categorical_accuracy: 0.9888 - val_loss: 0.0313 - val_categorical_accuracy: 0.9898\n"
     ]
    },
    {
     "data": {
      "text/plain": [
       "<tensorflow.python.keras.callbacks.History at 0x7f21c9874748>"
      ]
     },
     "execution_count": 25,
     "metadata": {},
     "output_type": "execute_result"
    }
   ],
   "source": [
    "#Model Generation\n",
    "model.fit(train_gen, steps_per_epoch=steps_per_epoch, epochs=num_epochs, verbose=1, \n",
    "                    callbacks=callbacks_list, validation_data=val_gen, \n",
    "                    validation_steps=validation_steps, class_weight=None, workers=1, initial_epoch=0)"
   ]
  },
  {
   "cell_type": "code",
   "execution_count": 28,
   "metadata": {},
   "outputs": [
    {
     "data": {
      "text/plain": [
       "<matplotlib.legend.Legend at 0x7f21640619b0>"
      ]
     },
     "execution_count": 28,
     "metadata": {},
     "output_type": "execute_result"
    },
    {
     "data": {
      "image/png": "[encoded data removed]",
      "text/plain": [
       "<Figure size 720x360 with 2 Axes>"
      ]
     },
     "metadata": {
      "needs_background": "light"
     },
     "output_type": "display_data"
    }
   ],
   "source": [
    "#Graphs between Accuracy vs epoch and loss vs epoch\n",
    "from keras.callbacks import History as history\n",
    "import matplotlib.pyplot as plt\n",
    "fig, axes = plt.subplots(1, 2, figsize = (10, 5))\n",
    "axes[0].plot(range(1, len(model.history.history['categorical_accuracy']) + 1), model.history.history['categorical_accuracy'], linestyle = 'solid', marker = 'o', color = 'crimson', label = 'Training Accuracy')\n",
    "axes[0].plot(range(1, len(model.history.history['val_categorical_accuracy']) + 1), model.history.history['val_categorical_accuracy'], linestyle = 'solid', marker = 'o', color = 'dodgerblue', label = 'Testing Accuracy')\n",
    "axes[0].set_xlabel('Epochs', fontsize = 14)\n",
    "axes[0].set_ylabel('Accuracy',fontsize = 14)\n",
    "axes[0].set_title('CNN Dropout Accuracy Trainig VS Testing', fontsize = 14)\n",
    "axes[0].legend(loc = 'best')\n",
    "axes[1].plot(range(1, len(model.history.history['loss']) + 1), model.history.history['loss'], linestyle = 'solid', marker = 'o', color = 'crimson', label = 'Training Loss')\n",
    "axes[1].plot(range(1, len(model.history.history['val_loss']) + 1), model.history.history['val_loss'], linestyle = 'solid', marker = 'o', color = 'dodgerblue', label = 'Testing Loss')\n",
    "axes[1].set_xlabel('Epochs', fontsize = 14)\n",
    "axes[1].set_ylabel('Loss',fontsize = 14)\n",
    "axes[1].set_title('CNN Dropout Loss Trainig VS Testing', fontsize = 14)\n",
    "axes[1].legend(loc = 'best')"
   ]
  },
  {
   "cell_type": "code",
   "execution_count": 29,
   "metadata": {},
   "outputs": [
    {
     "name": "stdout",
     "output_type": "stream",
     "text": [
      "Found 1612 images belonging to 10 classes.\n"
     ]
    }
   ],
   "source": [
    "#Setting up the testing generator and initilizing the object for the same\n",
    "test_data_generator = ImageDataGenerator(rescale=1./ 255)\n",
    "test_generator = test_data_generator.flow_from_directory(\n",
    "        test_dir,\n",
    "        target_size=(128,128),\n",
    "        batch_size=64,\n",
    "        class_mode='categorical',  \n",
    "        shuffle=False\n",
    "        )  \n",
    "test_generator.reset()"
   ]
  },
  {
   "cell_type": "code",
   "execution_count": 30,
   "metadata": {},
   "outputs": [
    {
     "name": "stdout",
     "output_type": "stream",
     "text": [
      "0.9869727047146402\n"
     ]
    },
    {
     "data": {
      "text/plain": [
       "array([[208,   0,   0,   0,   2,   0,   0,   0,   0,   6],\n",
       "       [  0, 184,   0,   0,   0,   0,   0,   0,   0,   0],\n",
       "       [  0,   1, 174,   0,   0,   0,   1,   0,   0,   0],\n",
       "       [  0,   0,   0, 164,   0,   0,   0,   0,   1,   2],\n",
       "       [  0,   0,   0,   0, 183,   0,   0,   0,   0,   0],\n",
       "       [  0,   0,   0,   0,   0, 158,   0,   0,   0,   0],\n",
       "       [  0,   0,   0,   0,   2,   0, 176,   0,   0,   0],\n",
       "       [  1,   0,   0,   0,   0,   0,   0, 115,   0,   0],\n",
       "       [  0,   0,   0,   0,   0,   0,   0,   0, 101,   0],\n",
       "       [  0,   0,   0,   0,   0,   0,   0,   0,   5, 128]])"
      ]
     },
     "execution_count": 30,
     "metadata": {},
     "output_type": "execute_result"
    }
   ],
   "source": [
    "#Prediction on the test dataset\n",
    "Y_pred = model.predict(test_generator)\n",
    "classes = test_generator.classes[test_generator.index_array]\n",
    "y_pred = np.argmax(Y_pred, axis=-1)\n",
    "print(sum(y_pred==classes)/test_generator.samples)\n",
    "\n",
    "#Confusion Matrix on the Test Dataset\n",
    "from sklearn.metrics import confusion_matrix\n",
    "confusion_matrix(test_generator.classes[test_generator.index_array],y_pred)"
   ]
  }
 ],
 "metadata": {
  "kernelspec": {
   "display_name": "Python 3",
   "language": "python",
   "name": "python3"
  },
  "language_info": {
   "codemirror_mode": {
    "name": "ipython",
    "version": 3
   },
   "file_extension": ".py",
   "mimetype": "text/x-python",
   "name": "python",
   "nbconvert_exporter": "python",
   "pygments_lexer": "ipython3",
   "version": "3.7.3"
  }
 },
 "nbformat": 4,
 "nbformat_minor": 2
}
